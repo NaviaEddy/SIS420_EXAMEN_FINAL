{
  "nbformat": 4,
  "nbformat_minor": 0,
  "metadata": {
    "colab": {
      "provenance": []
    },
    "kernelspec": {
      "name": "python3",
      "display_name": "Python 3"
    },
    "language_info": {
      "name": "python"
    }
  },
  "cells": [
    {
      "cell_type": "code",
      "execution_count": 9,
      "metadata": {
        "id": "0p1iyrMcccK5"
      },
      "outputs": [],
      "source": [
        "import random\n",
        "\n",
        "# Parámetros del problema\n",
        "frecuencias_operativas = [1.5, 2.0, 2.5]  # Frecuencias en GHz, para que la antena funcione correctamente\n",
        "longitud_minima = 0.5  # Longitud mínima de la antena en metros\n",
        "longitud_maxima = 5.0  # Longitud máxima de la antena en metros\n",
        "grosor_minimo = 0.1  # Grosor mínimo de la antena en metros\n",
        "grosor_maximo = 0.5  # Grosor máximo de la antena en metros\n",
        "tamanio_poblacion = 100 #Numero de antenas en cada poblacion\n",
        "prob_mutacion = 0.2 #Probabilidad de que un gen mute durante la reproduccion\n",
        "num_generaciones = 50"
      ]
    },
    {
      "cell_type": "code",
      "source": [
        "# Función de aptitud (ganancia total)\n",
        "def calcular_ganancia_total(longitud, grosor):\n",
        "    # Supongamos una relación lineal simple entre la longitud y la ganancia para cada frecuencia.\n",
        "    ganancias_por_frecuencia = [frecuencia * longitud * grosor for frecuencia in frecuencias_operativas]\n",
        "    ganancia_total = sum(ganancias_por_frecuencia)\n",
        "    return ganancia_total"
      ],
      "metadata": {
        "id": "U7V8kFmocpWW"
      },
      "execution_count": 2,
      "outputs": []
    },
    {
      "cell_type": "code",
      "source": [
        "# Función para inicializar la población\n",
        "def inicializar_poblacion():\n",
        "    return [(random.uniform(longitud_minima, longitud_maxima),\n",
        "             random.uniform(grosor_minimo, grosor_maximo))\n",
        "            for _ in range(tamanio_poblacion)]"
      ],
      "metadata": {
        "id": "vcH6QQ3rcrGm"
      },
      "execution_count": 3,
      "outputs": []
    },
    {
      "cell_type": "code",
      "source": [
        "# Función para realizar la selección de cromosomas\n",
        "def seleccionar_padres(poblacion, aptitudes):\n",
        "    padre1, padre2 = random.choices(poblacion, weights=aptitudes, k=2)\n",
        "    return padre1, padre2"
      ],
      "metadata": {
        "id": "nawVcfWRcsk-"
      },
      "execution_count": 4,
      "outputs": []
    },
    {
      "cell_type": "code",
      "source": [
        "# Función para realizar el cruce de dos cromosomas\n",
        "def cruzar(padre1, padre2):\n",
        "    punto_cruce = random.uniform(0, 1)\n",
        "    hijo1 = (punto_cruce * padre1[0] + (1 - punto_cruce) * padre2[0],\n",
        "             punto_cruce * padre1[1] + (1 - punto_cruce) * padre2[1])\n",
        "    hijo2 = (punto_cruce * padre2[0] + (1 - punto_cruce) * padre1[0],\n",
        "             punto_cruce * padre2[1] + (1 - punto_cruce) * padre1[1])\n",
        "    return hijo1, hijo2"
      ],
      "metadata": {
        "id": "nsQ5w5h5cuG2"
      },
      "execution_count": 5,
      "outputs": []
    },
    {
      "cell_type": "code",
      "source": [
        "# Función para realizar la mutación de un cromosoma\n",
        "def mutar(cromosoma):\n",
        "    longitud_mutada = cromosoma[0] + random.uniform(-0.2, 0.2)\n",
        "    grosor_mutado = cromosoma[1] + random.uniform(-0.05, 0.05)\n",
        "\n",
        "    longitud_mutada = max(longitud_minima, min(longitud_maxima, longitud_mutada))\n",
        "    grosor_mutado = max(grosor_minimo, min(grosor_maximo, grosor_mutado))\n",
        "\n",
        "    return longitud_mutada, grosor_mutado"
      ],
      "metadata": {
        "id": "rzb1KCrScvs4"
      },
      "execution_count": 6,
      "outputs": []
    },
    {
      "cell_type": "code",
      "source": [
        "# Función para mostrar la población\n",
        "def mostrar_poblacion(poblacion):\n",
        "    print(\"\\nPoblación final:\")\n",
        "    for i, (longitud, grosor) in enumerate(poblacion):\n",
        "        aptitud = calcular_ganancia_total(longitud, grosor)\n",
        "        print(f\"Cromosoma {i + 1}: Longitud={longitud:.2f}, Grosor={grosor:.2f}, Aptitud={aptitud:.2f}\")"
      ],
      "metadata": {
        "id": "kHpPVDmR5lXJ"
      },
      "execution_count": 23,
      "outputs": []
    },
    {
      "cell_type": "code",
      "source": [
        "# Algoritmo genético\n",
        "def algoritmo_genetico():\n",
        "    poblacion = inicializar_poblacion()\n",
        "\n",
        "    for generacion in range(num_generaciones):\n",
        "        aptitudes = [calcular_ganancia_total(longitud, grosor) for longitud, grosor in poblacion]\n",
        "\n",
        "        nueva_poblacion = []\n",
        "\n",
        "        for _ in range(tamanio_poblacion // 2):\n",
        "            padre1, padre2 = seleccionar_padres(poblacion, aptitudes)\n",
        "            hijo1, hijo2 = cruzar(padre1, padre2)\n",
        "            hijo1 = mutar(hijo1)\n",
        "            hijo2 = mutar(hijo2)\n",
        "            nueva_poblacion.extend([hijo1, hijo2])\n",
        "\n",
        "        poblacion = nueva_poblacion\n",
        "\n",
        "    mejor_solucion = max(poblacion, key=lambda c: calcular_ganancia_total(c[0], c[1]))\n",
        "    mejor_ganancia = calcular_ganancia_total(mejor_solucion[0], mejor_solucion[1])\n",
        "    indice_individuo = poblacion.index(mejor_solucion)\n",
        "\n",
        "    return mejor_solucion, mejor_ganancia, poblacion, indice_individuo"
      ],
      "metadata": {
        "id": "4f-_iQjScxf-"
      },
      "execution_count": 24,
      "outputs": []
    },
    {
      "cell_type": "code",
      "source": [
        "# Ejecutar el algoritmo genético\n",
        "mejor_solucion, mejor_ganancia, poblacion, indice_individuo = algoritmo_genetico()\n",
        "\n",
        "mostrar_poblacion(poblacion)\n",
        "print(\"\\nMejor hijo:\")\n",
        "print(f\"Cromosoma: {indice_individuo + 1}, Longitud={mejor_solucion[0]:.2f}, Grosor={mejor_solucion[1]:.2f}, Aptitud={mejor_ganancia:.2f}\")\n"
      ],
      "metadata": {
        "colab": {
          "base_uri": "https://localhost:8080/"
        },
        "id": "W141Ts6-c0u-",
        "outputId": "1649994d-ae53-4a17-de88-a61bd5a59a93"
      },
      "execution_count": 26,
      "outputs": [
        {
          "output_type": "stream",
          "name": "stdout",
          "text": [
            "\n",
            "Población final:\n",
            "Cromosoma 1: Longitud=3.72, Grosor=0.41, Aptitud=9.08\n",
            "Cromosoma 2: Longitud=3.48, Grosor=0.42, Aptitud=8.84\n",
            "Cromosoma 3: Longitud=3.74, Grosor=0.43, Aptitud=9.70\n",
            "Cromosoma 4: Longitud=3.97, Grosor=0.46, Aptitud=10.88\n",
            "Cromosoma 5: Longitud=3.98, Grosor=0.47, Aptitud=11.25\n",
            "Cromosoma 6: Longitud=3.62, Grosor=0.46, Aptitud=10.00\n",
            "Cromosoma 7: Longitud=3.74, Grosor=0.44, Aptitud=9.87\n",
            "Cromosoma 8: Longitud=3.64, Grosor=0.38, Aptitud=8.38\n",
            "Cromosoma 9: Longitud=3.71, Grosor=0.47, Aptitud=10.55\n",
            "Cromosoma 10: Longitud=3.85, Grosor=0.50, Aptitud=11.56\n",
            "Cromosoma 11: Longitud=3.74, Grosor=0.48, Aptitud=10.68\n",
            "Cromosoma 12: Longitud=3.73, Grosor=0.42, Aptitud=9.44\n",
            "Cromosoma 13: Longitud=4.04, Grosor=0.40, Aptitud=9.74\n",
            "Cromosoma 14: Longitud=3.83, Grosor=0.37, Aptitud=8.55\n",
            "Cromosoma 15: Longitud=3.95, Grosor=0.50, Aptitud=11.85\n",
            "Cromosoma 16: Longitud=3.84, Grosor=0.50, Aptitud=11.53\n",
            "Cromosoma 17: Longitud=3.84, Grosor=0.43, Aptitud=9.89\n",
            "Cromosoma 18: Longitud=3.29, Grosor=0.37, Aptitud=7.33\n",
            "Cromosoma 19: Longitud=3.86, Grosor=0.47, Aptitud=10.78\n",
            "Cromosoma 20: Longitud=4.03, Grosor=0.45, Aptitud=10.89\n",
            "Cromosoma 21: Longitud=3.65, Grosor=0.46, Aptitud=10.01\n",
            "Cromosoma 22: Longitud=3.96, Grosor=0.45, Aptitud=10.62\n",
            "Cromosoma 23: Longitud=3.84, Grosor=0.45, Aptitud=10.40\n",
            "Cromosoma 24: Longitud=3.71, Grosor=0.50, Aptitud=11.12\n",
            "Cromosoma 25: Longitud=3.89, Grosor=0.44, Aptitud=10.31\n",
            "Cromosoma 26: Longitud=3.87, Grosor=0.45, Aptitud=10.44\n",
            "Cromosoma 27: Longitud=3.75, Grosor=0.46, Aptitud=10.42\n",
            "Cromosoma 28: Longitud=3.81, Grosor=0.40, Aptitud=9.23\n",
            "Cromosoma 29: Longitud=3.86, Grosor=0.39, Aptitud=8.98\n",
            "Cromosoma 30: Longitud=3.53, Grosor=0.47, Aptitud=10.03\n",
            "Cromosoma 31: Longitud=3.78, Grosor=0.44, Aptitud=9.92\n",
            "Cromosoma 32: Longitud=3.64, Grosor=0.45, Aptitud=9.79\n",
            "Cromosoma 33: Longitud=3.78, Grosor=0.45, Aptitud=10.15\n",
            "Cromosoma 34: Longitud=3.68, Grosor=0.50, Aptitud=11.03\n",
            "Cromosoma 35: Longitud=3.84, Grosor=0.48, Aptitud=11.16\n",
            "Cromosoma 36: Longitud=3.74, Grosor=0.46, Aptitud=10.21\n",
            "Cromosoma 37: Longitud=3.87, Grosor=0.50, Aptitud=11.60\n",
            "Cromosoma 38: Longitud=3.84, Grosor=0.48, Aptitud=10.97\n",
            "Cromosoma 39: Longitud=3.74, Grosor=0.46, Aptitud=10.42\n",
            "Cromosoma 40: Longitud=3.64, Grosor=0.44, Aptitud=9.53\n",
            "Cromosoma 41: Longitud=3.48, Grosor=0.50, Aptitud=10.45\n",
            "Cromosoma 42: Longitud=3.91, Grosor=0.46, Aptitud=10.77\n",
            "Cromosoma 43: Longitud=3.93, Grosor=0.40, Aptitud=9.50\n",
            "Cromosoma 44: Longitud=3.92, Grosor=0.49, Aptitud=11.46\n",
            "Cromosoma 45: Longitud=3.85, Grosor=0.40, Aptitud=9.31\n",
            "Cromosoma 46: Longitud=3.54, Grosor=0.40, Aptitud=8.56\n",
            "Cromosoma 47: Longitud=3.80, Grosor=0.45, Aptitud=10.32\n",
            "Cromosoma 48: Longitud=3.76, Grosor=0.48, Aptitud=10.88\n",
            "Cromosoma 49: Longitud=3.53, Grosor=0.46, Aptitud=9.74\n",
            "Cromosoma 50: Longitud=3.62, Grosor=0.48, Aptitud=10.46\n",
            "Cromosoma 51: Longitud=3.74, Grosor=0.45, Aptitud=10.17\n",
            "Cromosoma 52: Longitud=3.58, Grosor=0.43, Aptitud=9.32\n",
            "Cromosoma 53: Longitud=3.68, Grosor=0.50, Aptitud=10.95\n",
            "Cromosoma 54: Longitud=3.73, Grosor=0.46, Aptitud=10.19\n",
            "Cromosoma 55: Longitud=3.81, Grosor=0.36, Aptitud=8.32\n",
            "Cromosoma 56: Longitud=3.53, Grosor=0.41, Aptitud=8.65\n",
            "Cromosoma 57: Longitud=3.56, Grosor=0.47, Aptitud=10.08\n",
            "Cromosoma 58: Longitud=3.90, Grosor=0.43, Aptitud=10.14\n",
            "Cromosoma 59: Longitud=3.82, Grosor=0.47, Aptitud=10.69\n",
            "Cromosoma 60: Longitud=3.80, Grosor=0.45, Aptitud=10.31\n",
            "Cromosoma 61: Longitud=3.77, Grosor=0.36, Aptitud=8.25\n",
            "Cromosoma 62: Longitud=3.90, Grosor=0.37, Aptitud=8.63\n",
            "Cromosoma 63: Longitud=3.74, Grosor=0.39, Aptitud=8.85\n",
            "Cromosoma 64: Longitud=3.81, Grosor=0.39, Aptitud=8.96\n",
            "Cromosoma 65: Longitud=4.00, Grosor=0.43, Aptitud=10.42\n",
            "Cromosoma 66: Longitud=3.81, Grosor=0.41, Aptitud=9.43\n",
            "Cromosoma 67: Longitud=3.52, Grosor=0.50, Aptitud=10.56\n",
            "Cromosoma 68: Longitud=3.70, Grosor=0.50, Aptitud=11.09\n",
            "Cromosoma 69: Longitud=3.63, Grosor=0.46, Aptitud=10.06\n",
            "Cromosoma 70: Longitud=3.42, Grosor=0.42, Aptitud=8.69\n",
            "Cromosoma 71: Longitud=3.91, Grosor=0.44, Aptitud=10.23\n",
            "Cromosoma 72: Longitud=3.97, Grosor=0.47, Aptitud=11.27\n",
            "Cromosoma 73: Longitud=3.86, Grosor=0.41, Aptitud=9.45\n",
            "Cromosoma 74: Longitud=3.67, Grosor=0.42, Aptitud=9.30\n",
            "Cromosoma 75: Longitud=3.71, Grosor=0.35, Aptitud=7.70\n",
            "Cromosoma 76: Longitud=3.52, Grosor=0.43, Aptitud=9.12\n",
            "Cromosoma 77: Longitud=3.70, Grosor=0.47, Aptitud=10.53\n",
            "Cromosoma 78: Longitud=3.50, Grosor=0.48, Aptitud=10.18\n",
            "Cromosoma 79: Longitud=3.77, Grosor=0.41, Aptitud=9.34\n",
            "Cromosoma 80: Longitud=3.96, Grosor=0.37, Aptitud=8.70\n",
            "Cromosoma 81: Longitud=3.75, Grosor=0.42, Aptitud=9.39\n",
            "Cromosoma 82: Longitud=3.54, Grosor=0.45, Aptitud=9.47\n",
            "Cromosoma 83: Longitud=4.10, Grosor=0.41, Aptitud=10.16\n",
            "Cromosoma 84: Longitud=3.71, Grosor=0.48, Aptitud=10.73\n",
            "Cromosoma 85: Longitud=3.87, Grosor=0.49, Aptitud=11.29\n",
            "Cromosoma 86: Longitud=3.70, Grosor=0.44, Aptitud=9.83\n",
            "Cromosoma 87: Longitud=3.76, Grosor=0.46, Aptitud=10.44\n",
            "Cromosoma 88: Longitud=3.71, Grosor=0.50, Aptitud=11.13\n",
            "Cromosoma 89: Longitud=4.02, Grosor=0.48, Aptitud=11.64\n",
            "Cromosoma 90: Longitud=4.02, Grosor=0.46, Aptitud=11.06\n",
            "Cromosoma 91: Longitud=3.60, Grosor=0.45, Aptitud=9.67\n",
            "Cromosoma 92: Longitud=3.72, Grosor=0.46, Aptitud=10.27\n",
            "Cromosoma 93: Longitud=3.92, Grosor=0.44, Aptitud=10.41\n",
            "Cromosoma 94: Longitud=3.80, Grosor=0.47, Aptitud=10.71\n",
            "Cromosoma 95: Longitud=3.81, Grosor=0.44, Aptitud=10.04\n",
            "Cromosoma 96: Longitud=3.61, Grosor=0.44, Aptitud=9.47\n",
            "Cromosoma 97: Longitud=3.70, Grosor=0.48, Aptitud=10.69\n",
            "Cromosoma 98: Longitud=3.71, Grosor=0.42, Aptitud=9.34\n",
            "Cromosoma 99: Longitud=3.73, Grosor=0.47, Aptitud=10.54\n",
            "Cromosoma 100: Longitud=3.86, Grosor=0.42, Aptitud=9.69\n",
            "\n",
            "Mejor hijo:\n",
            "Cromosoma: 15, Longitud=3.95, Grosor=0.50, Aptitud=11.85\n"
          ]
        }
      ]
    }
  ]
}